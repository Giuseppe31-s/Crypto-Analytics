{
 "cells": [
  {
   "cell_type": "markdown",
   "metadata": {},
   "source": [
    "# Feature Selection\n"
   ]
  },
  {
   "cell_type": "code",
   "execution_count": null,
   "metadata": {},
   "outputs": [],
   "source": [
    "from sklearn.feature_selection import VarianceThreshold, chi2,\\\n",
    "  mutual_info_regression, SelectKBest\n",
    "import pandas as pd\n",
    "import os\n",
    "import ta\n",
    "import matplotlib.pyplot as plt\n",
    "\n",
    "\n",
    "os.chdir(\"../\")"
   ]
  },
  {
   "cell_type": "code",
   "execution_count": null,
   "metadata": {},
   "outputs": [],
   "source": [
    "df = pd.read_parquet('data/bronze/crypto_stock_bronze_btc.parquet')\n",
    "df.head()"
   ]
  },
  {
   "cell_type": "code",
   "execution_count": null,
   "metadata": {},
   "outputs": [],
   "source": [
    "df_features_indicators = ta.add_all_ta_features(df, open=\"last_open\", high=\"last_max\", low=\"last_min\", close=\"last_max\", volume=\"volume\")\n",
    "df_features_indicators"
   ]
  },
  {
   "cell_type": "code",
   "execution_count": null,
   "metadata": {},
   "outputs": [],
   "source": [
    "plt.figure(figsize = (15,6))\n",
    "((df_features_indicators.isna().sum()\\\n",
    "  [df_features_indicators.isna().sum()>0]/df_features_indicators.shape[0]) * 100)\\\n",
    ".plot(kind='bar', title='Percentage of missing values per feature')\n",
    "plt.grid(axis = 'y');\n"
   ]
  },
  {
   "cell_type": "code",
   "execution_count": null,
   "metadata": {},
   "outputs": [],
   "source": [
    "select_columns = list(set(df_features_indicators.columns) - set([\"trend_psar_up\", \"trend_psar_down\"]))"
   ]
  },
  {
   "cell_type": "code",
   "execution_count": null,
   "metadata": {},
   "outputs": [],
   "source": [
    "df_features_indicators_not_null = df_features_indicators[select_columns].dropna().copy()\n",
    "df_features_indicators_not_null"
   ]
  },
  {
   "cell_type": "code",
   "execution_count": null,
   "metadata": {},
   "outputs": [],
   "source": [
    "df_features_indicators_not_null.set_index(\"date\").last_close.plot(figsize = (15,6))"
   ]
  },
  {
   "cell_type": "code",
   "execution_count": null,
   "metadata": {},
   "outputs": [],
   "source": [
    "df_features_indicators_not_null.set_index(\"date\", inplace = True,drop=True)"
   ]
  },
  {
   "cell_type": "code",
   "execution_count": null,
   "metadata": {},
   "outputs": [],
   "source": [
    "X = df_features_indicators_not_null.drop(columns = [\"last_close\"])\n",
    "y = df_features_indicators_not_null.last_close"
   ]
  },
  {
   "cell_type": "code",
   "execution_count": null,
   "metadata": {},
   "outputs": [],
   "source": [
    "pd.DataFrame(y).describe()"
   ]
  },
  {
   "cell_type": "code",
   "execution_count": null,
   "metadata": {},
   "outputs": [],
   "source": [
    "threshold = 0.1\n",
    "vt = VarianceThreshold(threshold)\n",
    "X_vt = vt.fit_transform(X)\n",
    "\n",
    "\n",
    "print('# vars original: {0}, # vars com threshold: {1}'.format(X.shape[1], X_vt.shape[1]))\n",
    "\n",
    "fig, ax = plt.subplots()\n",
    "ax.bar(range(len(vt.variances_)), vt.variances_)\n",
    "ax.set_yscale('log')\n",
    "ax.plot([0, len(vt.variances_)], [threshold, threshold], \"k--\")\n",
    "\n",
    "print(vt.variances_)"
   ]
  },
  {
   "cell_type": "code",
   "execution_count": null,
   "metadata": {},
   "outputs": [],
   "source": [
    "# Initialize SelectKBest with mutual_info_regression\n",
    "skb_mi = SelectKBest(score_func=mutual_info_regression, k=10)  # Select top 10 features\n",
    "\n",
    "# Fit the SelectKBest to the data\n",
    "X_selected = skb_mi.fit_transform(X, y)\n",
    "\n",
    "# Get the indices of the selected features\n",
    "selected_indices = skb_mi.get_support(indices=True)\n",
    "\n",
    "# Print the indices of the selected features\n",
    "print(\"Indices of selected features:\", selected_indices)"
   ]
  },
  {
   "cell_type": "code",
   "execution_count": null,
   "metadata": {},
   "outputs": [],
   "source": [
    "X = X[X.columns[selected_indices]].copy()"
   ]
  },
  {
   "cell_type": "code",
   "execution_count": null,
   "metadata": {},
   "outputs": [],
   "source": [
    "pd.concat([X,y],axis=1).corr()"
   ]
  },
  {
   "cell_type": "code",
   "execution_count": null,
   "metadata": {},
   "outputs": [],
   "source": [
    "sns.heatmap(pd.concat([X,y],axis=1).corr());"
   ]
  }
 ],
 "metadata": {
  "kernelspec": {
   "display_name": "crypto-analytics-EeiVFNAO-py3.10",
   "language": "python",
   "name": "python3"
  },
  "language_info": {
   "name": "python",
   "version": "3.10.0"
  }
 },
 "nbformat": 4,
 "nbformat_minor": 2
}
